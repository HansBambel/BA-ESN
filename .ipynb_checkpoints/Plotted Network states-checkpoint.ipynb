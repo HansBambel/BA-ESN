{
 "cells": [
  {
   "cell_type": "code",
   "execution_count": 1,
   "metadata": {
    "collapsed": false
   },
   "outputs": [],
   "source": [
    "import Parity_Data_Generator\n",
    "import numpy as np\n",
    "from pyESN import ESN\n",
    "import time\n",
    "from matplotlib import pyplot as plt\n",
    "\n",
    "N = 7000   # number of datapoints\n",
    "n = 3       # n-parity\n",
    "rng = np.random.RandomState(42)\n",
    "\n",
    "def runSomeConfigs(spectral_rad, leak_r, train_bits, test_bits, train_parity, test_parity):\n",
    "#     print(\"Spectral-radius:\",spectral_rad, \"leak-rate:\", leak_r)\n",
    "    nParityESN = ESN(n_inputs=1,\n",
    "                          n_outputs=1,\n",
    "                          n_reservoir=500,  # from 200 onwards test error decreases significantly\n",
    "                          spectral_radius=spectral_rad,  # high spectral rad is better (high fluctuations 0->1->0)\n",
    "                          leak_rate= leak_r,   # adjust leak_rate\n",
    "                          sparsity=0.5,\n",
    "                          noise=0.001,\n",
    "                          input_shift=0,\n",
    "                          input_scaling=3,  # 3 seems to be fine. Maybe use lower\n",
    "                          teacher_scaling=1.12,\n",
    "                          teacher_shift=-0.7,\n",
    "                          out_activation=np.tanh,\n",
    "                          inverse_out_activation=np.arctanh,\n",
    "                          random_state=rng,\n",
    "                          silent=False)\n",
    "    # print(np.shape(bits),np.shape(parity),np.shape(target))\n",
    "    nParityESN.fit(train_bits, train_parity, inspect=True)\n",
    "    pred_test = nParityESN.predict(test_bits)\n",
    "\n",
    "    #### not rounding\n",
    "    predictedParity = pred_test # not rounding\n",
    "    #### Rounding\n",
    "#     better_pred_test = []           # Maybe don't round and return \"true\" results from pred_test\n",
    "#     for x in pred_test:\n",
    "#         better_pred_test.append(0 if x < 0.5 else 1)\n",
    "#     predictedParity = np.array(better_pred_test).reshape(-1,1)\n",
    "#     print(test_parity[40030:40100].reshape(-1))\n",
    "#     print(predictedParity[40030:40100].reshape(-1))\n",
    "    \n",
    "    print(\"Testing error\")\n",
    "    test_error = np.sqrt(np.mean((predictedParity - test_parity) ** 2))\n",
    "    print(test_error)\n",
    "    return test_error\n",
    "\n",
    "def produceTrainingData(randomState):\n",
    "    bits, parity, target = Parity_Data_Generator.generateParityData(N, n, randomstate=np.random.RandomState(randomState))\n",
    "\n",
    "    # Divide in training and test data\n",
    "    traintest_cutoff = int(np.ceil(0.7 * len(bits)))\n",
    "    train_bits, test_bits = bits[:traintest_cutoff], bits[traintest_cutoff:]\n",
    "    train_parity, test_parity = parity[:traintest_cutoff], parity[traintest_cutoff:]\n",
    "#     train_targets, test_targets = target[:traintest_cutoff], target[traintest_cutoff:]\n",
    "    return train_bits, test_bits, train_parity, test_parity"
   ]
  },
  {
   "cell_type": "markdown",
   "metadata": {},
   "source": [
    "# trials = 1\n",
    "n = 500\n",
    "# l_rate = np.linspace(0.1, 1, num=10)\n",
    "# l_rate =[0.1]\n",
    "l_rate = [0.1,0.9]\n",
    "# sp_rad = np.linspace(0.9, 1.0, num=5)\n",
    "# sp_rad = np.linspace(0.1, 1, num=10)\n",
    "# sp_rad = [0.9,0.92,0.94,0.96,0.98, 1]\n",
    "sp_rad = [0.1,0.9]\n",
    "\n",
    "run_time = time.time()\n",
    "iterations, iterationcount = trials*len(sp_rad)*len(l_rate), 0\n",
    "errors = []\n",
    "all_errors = [{} for _ in range(trials)] # empty dict\n",
    "for i in range(trials):\n",
    "    errors = []\n",
    "    # produce training and testing data\n",
    "    train_bits, test_bits, train_parity, test_parity = produceTrainingData(i)\n",
    "    \n",
    "    for l in l_rate:\n",
    "        for s in sp_rad:\n",
    "            print(\"Neurons:\", n, \"Leak-rate:\", l, \"Spectral-radius:\", s)\n",
    "            errors.append(runSomeConfigs(s,l, train_bits, test_bits, train_parity, test_parity))\n",
    "            iterationcount = iterationcount + 1\n",
    "            print(\"--- Progress: {:.2f}% --- {:.2f} minutes ---\".format(iterationcount/iterations*100, ((time.time() - run_time)/60) ))\n",
    "    ## Save leak-rate,spectral-radius and error in dictionary\n",
    "    all_errors[i] = errors\n",
    "            \n",
    "print(\"Total time for Testbench:\")\n",
    "print(\"--- {:.2f} seconds ---\".format(time.time() - run_time))\n",
    "print(\"--- {:.2f} minutes ---\".format(((time.time() - run_time)/60)))"
   ]
  },
  {
   "cell_type": "code",
   "execution_count": 2,
   "metadata": {
    "collapsed": true
   },
   "outputs": [],
   "source": [
    "train_bits, test_bits, train_parity, test_parity = produceTrainingData(42)"
   ]
  },
  {
   "cell_type": "code",
   "execution_count": 4,
   "metadata": {
    "collapsed": false
   },
   "outputs": [
    {
     "name": "stdout",
     "output_type": "stream",
     "text": [
      "harvesting states...\n"
     ]
    },
    {
     "ename": "TypeError",
     "evalue": "unsupported operand type(s) for -: 'int' and 'list'",
     "output_type": "error",
     "traceback": [
      "\u001b[0;31m---------------------------------------------------------------------------\u001b[0m",
      "\u001b[0;31mTypeError\u001b[0m                                 Traceback (most recent call last)",
      "\u001b[0;32m<ipython-input-4-8477c9a23ac8>\u001b[0m in \u001b[0;36m<module>\u001b[0;34m()\u001b[0m\n\u001b[1;32m      1\u001b[0m \u001b[0ml_rate\u001b[0m \u001b[1;33m=\u001b[0m \u001b[1;33m[\u001b[0m\u001b[1;36m0.1\u001b[0m\u001b[1;33m]\u001b[0m\u001b[1;33m\u001b[0m\u001b[0m\n\u001b[1;32m      2\u001b[0m \u001b[0msp_rad\u001b[0m \u001b[1;33m=\u001b[0m \u001b[1;33m[\u001b[0m\u001b[1;36m0.1\u001b[0m\u001b[1;33m]\u001b[0m\u001b[1;33m\u001b[0m\u001b[0m\n\u001b[0;32m----> 3\u001b[0;31m \u001b[0mrunSomeConfigs\u001b[0m\u001b[1;33m(\u001b[0m\u001b[0msp_rad\u001b[0m\u001b[1;33m,\u001b[0m\u001b[0ml_rate\u001b[0m\u001b[1;33m,\u001b[0m \u001b[0mtrain_bits\u001b[0m\u001b[1;33m,\u001b[0m \u001b[0mtest_bits\u001b[0m\u001b[1;33m,\u001b[0m \u001b[0mtrain_parity\u001b[0m\u001b[1;33m,\u001b[0m \u001b[0mtest_parity\u001b[0m\u001b[1;33m)\u001b[0m\u001b[1;33m\u001b[0m\u001b[0m\n\u001b[0m",
      "\u001b[0;32m<ipython-input-1-014fa7ddf41b>\u001b[0m in \u001b[0;36mrunSomeConfigs\u001b[0;34m(spectral_rad, leak_r, train_bits, test_bits, train_parity, test_parity)\u001b[0m\n\u001b[1;32m     27\u001b[0m                           silent=False)\n\u001b[1;32m     28\u001b[0m     \u001b[1;31m# print(np.shape(bits),np.shape(parity),np.shape(target))\u001b[0m\u001b[1;33m\u001b[0m\u001b[1;33m\u001b[0m\u001b[0m\n\u001b[0;32m---> 29\u001b[0;31m     \u001b[0mnParityESN\u001b[0m\u001b[1;33m.\u001b[0m\u001b[0mfit\u001b[0m\u001b[1;33m(\u001b[0m\u001b[0mtrain_bits\u001b[0m\u001b[1;33m,\u001b[0m \u001b[0mtrain_parity\u001b[0m\u001b[1;33m,\u001b[0m \u001b[0minspect\u001b[0m\u001b[1;33m=\u001b[0m\u001b[1;32mTrue\u001b[0m\u001b[1;33m)\u001b[0m\u001b[1;33m\u001b[0m\u001b[0m\n\u001b[0m\u001b[1;32m     30\u001b[0m     \u001b[0mpred_test\u001b[0m \u001b[1;33m=\u001b[0m \u001b[0mnParityESN\u001b[0m\u001b[1;33m.\u001b[0m\u001b[0mpredict\u001b[0m\u001b[1;33m(\u001b[0m\u001b[0mtest_bits\u001b[0m\u001b[1;33m)\u001b[0m\u001b[1;33m\u001b[0m\u001b[0m\n\u001b[1;32m     31\u001b[0m \u001b[1;33m\u001b[0m\u001b[0m\n",
      "\u001b[0;32mC:\\Users\\Kevin\\Documents\\Python-projects\\BA-ESN\\pyESN.py\u001b[0m in \u001b[0;36mfit\u001b[0;34m(self, inputs, outputs, inspect)\u001b[0m\n\u001b[1;32m    178\u001b[0m         \u001b[1;32mfor\u001b[0m \u001b[0mn\u001b[0m \u001b[1;32min\u001b[0m \u001b[0mrange\u001b[0m\u001b[1;33m(\u001b[0m\u001b[1;36m1\u001b[0m\u001b[1;33m,\u001b[0m \u001b[0minputs\u001b[0m\u001b[1;33m.\u001b[0m\u001b[0mshape\u001b[0m\u001b[1;33m[\u001b[0m\u001b[1;36m0\u001b[0m\u001b[1;33m]\u001b[0m\u001b[1;33m)\u001b[0m\u001b[1;33m:\u001b[0m\u001b[1;33m\u001b[0m\u001b[0m\n\u001b[1;32m    179\u001b[0m             states[n, :] = self._update(states[n - 1], inputs_scaled[n, :],\n\u001b[0;32m--> 180\u001b[0;31m                                         teachers_scaled[n - 1, :])\n\u001b[0m\u001b[1;32m    181\u001b[0m \u001b[1;33m\u001b[0m\u001b[0m\n\u001b[1;32m    182\u001b[0m         \u001b[1;31m# learn the weights, i.e. find the linear combination of collected\u001b[0m\u001b[1;33m\u001b[0m\u001b[1;33m\u001b[0m\u001b[0m\n",
      "\u001b[0;32mC:\\Users\\Kevin\\Documents\\Python-projects\\BA-ESN\\pyESN.py\u001b[0m in \u001b[0;36m_update\u001b[0;34m(self, state, input_pattern, output_pattern)\u001b[0m\n\u001b[1;32m    115\u001b[0m         \"\"\"\n\u001b[1;32m    116\u001b[0m         \u001b[1;32mif\u001b[0m \u001b[0mself\u001b[0m\u001b[1;33m.\u001b[0m\u001b[0mteacher_forcing\u001b[0m\u001b[1;33m:\u001b[0m\u001b[1;33m\u001b[0m\u001b[0m\n\u001b[0;32m--> 117\u001b[0;31m             self.preactivation = (1-self.leak_rate)*self.preactivation+ (np.dot(self.W, state)\n\u001b[0m\u001b[1;32m    118\u001b[0m                              \u001b[1;33m+\u001b[0m \u001b[0mnp\u001b[0m\u001b[1;33m.\u001b[0m\u001b[0mdot\u001b[0m\u001b[1;33m(\u001b[0m\u001b[0mself\u001b[0m\u001b[1;33m.\u001b[0m\u001b[0mW_in\u001b[0m\u001b[1;33m,\u001b[0m \u001b[0minput_pattern\u001b[0m\u001b[1;33m)\u001b[0m\u001b[1;33m\u001b[0m\u001b[0m\n\u001b[1;32m    119\u001b[0m                              + np.dot(self.W_feedb, output_pattern))\n",
      "\u001b[0;31mTypeError\u001b[0m: unsupported operand type(s) for -: 'int' and 'list'"
     ]
    }
   ],
   "source": [
    "l_rate = 0.1\n",
    "sp_rad = 0.1\n",
    "runSomeConfigs(sp_rad,l_rate, train_bits, test_bits, train_parity, test_parity)"
   ]
  },
  {
   "cell_type": "code",
   "execution_count": null,
   "metadata": {
    "collapsed": false
   },
   "outputs": [],
   "source": [
    "l_rate = 0.1\n",
    "sp_rad = 0.9\n",
    "runSomeConfigs(sp_rad,l_rate, train_bits, test_bits, train_parity, test_parity)"
   ]
  },
  {
   "cell_type": "code",
   "execution_count": null,
   "metadata": {
    "collapsed": false
   },
   "outputs": [],
   "source": [
    "l_rate = 0.9\n",
    "sp_rad = 0.1\n",
    "runSomeConfigs(sp_rad,l_rate, train_bits, test_bits, train_parity, test_parity)"
   ]
  },
  {
   "cell_type": "code",
   "execution_count": null,
   "metadata": {
    "collapsed": false
   },
   "outputs": [],
   "source": [
    "l_rate = 0.9\n",
    "sp_rad = 0.9\n",
    "runSomeConfigs(sp_rad,l_rate, train_bits, test_bits, train_parity, test_parity)"
   ]
  },
  {
   "cell_type": "code",
   "execution_count": null,
   "metadata": {
    "collapsed": false
   },
   "outputs": [],
   "source": [
    "l_rate = 0.5\n",
    "sp_rad = 0.5\n",
    "runSomeConfigs(sp_rad,l_rate, train_bits, test_bits, train_parity, test_parity)"
   ]
  }
 ],
 "metadata": {
  "kernelspec": {
   "display_name": "Python [default]",
   "language": "python",
   "name": "python3"
  },
  "language_info": {
   "codemirror_mode": {
    "name": "ipython",
    "version": 3
   },
   "file_extension": ".py",
   "mimetype": "text/x-python",
   "name": "python",
   "nbconvert_exporter": "python",
   "pygments_lexer": "ipython3",
   "version": "3.5.2"
  }
 },
 "nbformat": 4,
 "nbformat_minor": 1
}
