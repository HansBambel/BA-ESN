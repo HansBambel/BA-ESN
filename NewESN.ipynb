{
 "cells": [
  {
   "cell_type": "code",
   "execution_count": 7,
   "metadata": {
    "collapsed": false,
    "deletable": true,
    "editable": true
   },
   "outputs": [],
   "source": [
    "import numpy as np\n",
    "from BlockedLeastSquares import BlockedLeastSquares\n",
    "\n",
    "class ESN(object):\n",
    "    def __init__(self, neurons, inputs, leak_rate, spectral_radius, dt, sparsity, noise):\n",
    "        self.W_rec = np.random.randn(neurons, neurons)\n",
    "        self.W_rec[np.random.rand(*self.W_rec.shape)<sparsity] = 0\n",
    "        self.W_rec /= np.abs(np.linalg.eigvals(self.W_rec)).max()\n",
    "        self.W_rec *= spectral_radius\n",
    "        self.W_in = np.random.randn(neurons, inputs)*np.sqrt(np.pi/2) / inputs\n",
    "        self.state = np.random.rand(neurons, 1)*2-1\n",
    "        self.leak_rate = leak_rate\n",
    "        self.spectral_radius = spectral_radius\n",
    "        self.dt = dt\n",
    "        self.sparsity = sparsity\n",
    "        self.noise = noise\n",
    "        self.neurons = neurons\n",
    "\n",
    "    \n",
    "    def _state_update(self, inp):\n",
    "        self.state += self.dt*(-self.leak_rate*self.state + np.tanh(self.W_in.dot(inp.reshape((-1, 1))) + self.W_rec.dot(self.state))) + self.noise*np.random.randn(self.neurons, 1) \n",
    "\n",
    "    def train(self, data, targets, washout=0, block_size=10000):\n",
    "        lstsq = BlockedLeastSquares()\n",
    "        block_size = min(block_size, data.shape[0]-washout)\n",
    "        block_num = int(np.ceil((data.shape[0]-washout)/block_size))\n",
    "        print(block_num)\n",
    "        # wash out initial network state\n",
    "        for i, row in enumerate(data[:washout, :]):\n",
    "            self._state_update(row)\n",
    "                \n",
    "        for j in range(block_num):\n",
    "            block = data[washout+j*block_size:washout+(j+1)*block_size, :]\n",
    "            state_values = np.empty((block.shape[0], self.neurons))\n",
    "            for i, row in enumerate(block):\n",
    "                self._state_update(row)\n",
    "                state_values[i, :] = self.state.ravel()\n",
    "            lstsq.update(targets[washout+j*block_size:washout+(j+1)*block_size, :], state_values)\n",
    "            \n",
    "        #self.readout_weights = np.linalg.lstsq(state_values, targets[washout:, :])[0].T \n",
    "        self.readout_weights = lstsq.omega.T\n",
    "        \n",
    "        predictions = self.predict(data)\n",
    "        error = np.sqrt(((predictions-targets)**2 / targets.var(axis=0) ).mean())\n",
    "        return error\n",
    "    \n",
    "    def predict(self, data, readout_weights=None):\n",
    "        if readout_weights == None:\n",
    "            readout_weights = self.readout_weights\n",
    "        \n",
    "        readout_values = np.empty((data.shape[0], readout_weights.shape[0]))\n",
    "        for i,row in enumerate(data):\n",
    "            self._state_update(row)\n",
    "            readout_values[i, :] = readout_weights.dot(self.state).ravel()\n",
    "        return readout_values"
   ]
  },
  {
   "cell_type": "markdown",
   "metadata": {
    "collapsed": false,
    "deletable": true,
    "editable": true
   },
   "source": [
    "esn_params = dict(neurons=300, inputs=1, leak_rate=0.85, spectral_radius=0.95, dt=0.1, sparsity=0.5, noise=0.01)\n",
    "\n",
    "net = ESN(**esn_params)\n",
    "\n",
    "x= np.linspace(0, 10*np.pi, 10000).reshape((-1, 1))\n",
    "y= np.sin(x)\n",
    "z= np.cos(x)\n",
    "y*=0.05\n"
   ]
  },
  {
   "cell_type": "markdown",
   "metadata": {
    "collapsed": false
   },
   "source": [
    "err= net.train(y, z, washout=0, block_size=10000)\n",
    "print(err)\n",
    "zz = net.predict(y)"
   ]
  },
  {
   "cell_type": "markdown",
   "metadata": {
    "collapsed": false
   },
   "source": [
    "pp.figure(figsize=(10,10))\n",
    "pp.plot(y, 'k-')\n",
    "pp.plot(z, 'r--')\n",
    "pp.plot(zz, 'g-')\n",
    "pp.ylim([-1.5, 1.5])"
   ]
  },
  {
   "cell_type": "markdown",
   "metadata": {
    "collapsed": false
   },
   "source": [
    "pp.figure(figsize=(10,10))\n",
    "pp.plot(net.predict(y, readout_weights=np.eye(800,800)[:10,:]));"
   ]
  },
  {
   "cell_type": "markdown",
   "metadata": {
    "collapsed": true
   },
   "source": [
    "np.linalg.norm?"
   ]
  },
  {
   "cell_type": "code",
   "execution_count": null,
   "metadata": {
    "collapsed": true
   },
   "outputs": [],
   "source": []
  }
 ],
 "metadata": {
  "anaconda-cloud": {},
  "kernelspec": {
   "display_name": "Python [default]",
   "language": "python",
   "name": "python3"
  },
  "language_info": {
   "codemirror_mode": {
    "name": "ipython",
    "version": 3
   },
   "file_extension": ".py",
   "mimetype": "text/x-python",
   "name": "python",
   "nbconvert_exporter": "python",
   "pygments_lexer": "ipython3",
   "version": "3.5.2"
  }
 },
 "nbformat": 4,
 "nbformat_minor": 2
}
