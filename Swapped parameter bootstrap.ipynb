{
 "cells": [
  {
   "cell_type": "code",
   "execution_count": 1,
   "metadata": {
    "collapsed": true
   },
   "outputs": [],
   "source": [
    "import pandas as pd\n",
    "import numpy as np\n",
    "import pickle\n",
    "import matplotlib.pyplot as plt\n",
    "import matplotlib.mlab as mlab\n",
    "\n",
    "# ############# Randomprojection\n",
    "with open(\"randomprojection_100neurons_3parity_scripterrors_30/all_50_randomprojection_errors_dataframe.p\", \"rb\")as inputfile:\n",
    "    df = pd.DataFrame(pickle.load(inputfile))"
   ]
  },
  {
   "cell_type": "code",
   "execution_count": 2,
   "metadata": {},
   "outputs": [
    {
     "name": "stdout",
     "output_type": "stream",
     "text": [
      "0.326621710415 0.052325064572\n",
      "0.47495500245 0.0346438907963\n"
     ]
    },
    {
     "data": {
      "image/png": "[encoded data removed]",
      "text/plain": [
       "<matplotlib.figure.Figure at 0x1792f3c96a0>"
      ]
     },
     "metadata": {},
     "output_type": "display_data"
    }
   ],
   "source": [
    "###################### swapped params\n",
    "## Hand picked parameters: l-rate = 0.41 sp-rad = 1.57\n",
    "nonOptModulESN = df[(df[\"input_leak_rate\"]==0.4111111111111111) & (df[\"input_spectral_rad\"]==1.577777777777778) &\n",
    "         (df[\"output_leak_rate\"]==1.0333333333333334) & (df[\"output_spectral_rad\"]== 1.577777777777778)]\n",
    "swappedModulESN = df[(df[\"input_leak_rate\"]==1.0333333333333334) & (df[\"input_spectral_rad\"]==1.577777777777778) &\n",
    "         (df[\"output_leak_rate\"]==0.4111111111111111) & (df[\"output_spectral_rad\"]== 1.577777777777778)]\n",
    "errors_nonOpt=nonOptModulESN[\"errors\"].tolist()[0]\n",
    "errors_swapped=swappedModulESN[\"errors\"].tolist()[0]\n",
    "# print(errors_nonOpt)\n",
    "# print(errors_swapped)\n",
    "mean1 = nonOptModulESN[\"averaged_error\"].iloc[0]\n",
    "sigma1 = np.std(nonOptModulESN[\"errors\"].tolist()[0])\n",
    "var1= np.var(nonOptModulESN[\"errors\"].tolist()[0])\n",
    "mean2 = swappedModulESN[\"averaged_error\"].iloc[0]\n",
    "sigma2 = np.std(swappedModulESN[\"errors\"].tolist()[0])\n",
    "var2 = np.var(swappedModulESN[\"errors\"].tolist()[0])\n",
    "print(mean1, sigma1)\n",
    "print(mean2, sigma2)\n",
    "\n",
    "# Plot if distribution is gaussian\n",
    "x1 = np.linspace(0.1,0.7, 100)\n",
    "plt.plot(x1,mlab.normpdf(x1, mean1, sigma1),label=\"non-Optimal ESN\")\n",
    "x2 = np.linspace(0.1,0.7, 100)\n",
    "plt.plot(x2,mlab.normpdf(x2, mean2, sigma2),label=\"swapped Parameters\")\n",
    "plt.legend()\n",
    "plt.show()"
   ]
  },
  {
   "cell_type": "code",
   "execution_count": 3,
   "metadata": {},
   "outputs": [],
   "source": [
    "def bootstrap_resample(data, num_samples=1000000, n=None):\n",
    "    if(n==None):\n",
    "        n = len(data)\n",
    "    \n",
    "    ## Draw num_samples-times \"n\" Samples\n",
    "    idx = np.random.randint(0, n, (num_samples, n))\n",
    "    samples = data[idx]\n",
    "    return samples"
   ]
  },
  {
   "cell_type": "code",
   "execution_count": 4,
   "metadata": {},
   "outputs": [
    {
     "name": "stdout",
     "output_type": "stream",
     "text": [
      "Example Error for nonOpt_resample: 0.328368805855\n",
      "Example Error for swapped_resample: 0.471502757383\n",
      "Example NonOpt-swapped: -0.143133951528\n",
      "Number of times nonOpt had a bigger mean than swapped: 0\n",
      "-0.163087211278\n",
      "-0.128332565831\n"
     ]
    }
   ],
   "source": [
    "nonOpt_resample=bootstrap_resample(errors_nonOpt)\n",
    "swapped_resample=bootstrap_resample(errors_swapped)\n",
    "print(\"Example Error for nonOpt_resample:\",nonOpt_resample.mean(axis=1)[0])\n",
    "print(\"Example Error for swapped_resample:\",swapped_resample.mean(axis=1)[0])\n",
    "print(\"Example NonOpt-swapped:\",nonOpt_resample.mean(axis=1)[0]-swapped_resample.mean(axis=1)[0])\n",
    "# print(nonOpt_resample.mean(axis=1)-swapped_resample.mean(axis=1))\n",
    "diff = nonOpt_resample.mean(axis=1)-swapped_resample.mean(axis=1)\n",
    "print(\"Number of times nonOpt had a bigger mean than swapped:\",sum(diff>0))\n",
    "s_diff=sorted(diff)\n",
    "print(s_diff[int(0.025*len(diff))])\n",
    "print(s_diff[int(0.975*len(diff))])"
   ]
  },
  {
   "cell_type": "code",
   "execution_count": null,
   "metadata": {
    "collapsed": true
   },
   "outputs": [],
   "source": []
  }
 ],
 "metadata": {
  "anaconda-cloud": {},
  "kernelspec": {
   "display_name": "Python [default]",
   "language": "python",
   "name": "python3"
  },
  "language_info": {
   "codemirror_mode": {
    "name": "ipython",
    "version": 3
   },
   "file_extension": ".py",
   "mimetype": "text/x-python",
   "name": "python",
   "nbconvert_exporter": "python",
   "pygments_lexer": "ipython3",
   "version": "3.5.2"
  }
 },
 "nbformat": 4,
 "nbformat_minor": 2
}
