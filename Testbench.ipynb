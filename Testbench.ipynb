{
 "cells": [
  {
   "cell_type": "code",
   "execution_count": 20,
   "metadata": {
    "collapsed": false
   },
   "outputs": [
    {
     "name": "stdout",
     "output_type": "stream",
     "text": [
      "--- 119.39709639549255 seconds ---\n"
     ]
    }
   ],
   "source": [
    "import Parity_Data_Generator\n",
    "import InputToParityESN\n",
    "# import ParityToOutputESN\n",
    "import numpy as np\n",
    "from pyESN import ESN\n",
    "# import matplotlib.pyplot as plt\n",
    "# from mpl_toolkits.mplot3d import Axes3D\n",
    "import time\n",
    "\n",
    "start_time = time.time()\n",
    "rng = np.random.RandomState(42)\n",
    "\n",
    "N = 50000   # number of datapoints\n",
    "n = 3       # n-parity\n",
    "# produce Data\n",
    "bits, parity, target = Parity_Data_Generator.generateParityData(N, n, randomstate=rng)\n",
    "\n",
    "# Divide in training and test data\n",
    "traintest_cutoff = int(np.ceil(0.7 * len(bits)))\n",
    "train_bits, test_bits = bits[:traintest_cutoff], bits[traintest_cutoff:]\n",
    "train_parity, test_parity = parity[:traintest_cutoff], parity[traintest_cutoff:]\n",
    "train_targets, test_targets = target[:traintest_cutoff], target[traintest_cutoff:]\n",
    "\n",
    "print(\"--- %s seconds ---\" % (time.time() - start_time))"
   ]
  },
  {
   "cell_type": "code",
   "execution_count": 40,
   "metadata": {
    "collapsed": true
   },
   "outputs": [],
   "source": [
    "def runSomeConfigs(num_neurons=500, spectral_rad, leak_r):\n",
    "#     print(\"Spectral-radius:\",spectral_rad, \"leak-rate:\", leak_r)\n",
    "    nParityESN = ESN(n_inputs=1,\n",
    "                          n_outputs=1,\n",
    "                          n_reservoir=num_neurons,  # from 200 onwards test error decreases significantly\n",
    "                          spectral_radius=spectral_rad,  # from 0.9 the test error is 0.0\n",
    "                          leak_rate= leak_r,   # adjust leak_rate\n",
    "                          sparsity=0.95,\n",
    "                          noise=0.001,\n",
    "                          input_shift=0,\n",
    "                          input_scaling=3,  # 3 seems to be fine. Maybe use lower\n",
    "                          teacher_scaling=1.12,\n",
    "                          teacher_shift=-0.7,\n",
    "                          out_activation=np.tanh,\n",
    "                          inverse_out_activation=np.arctanh,\n",
    "                          random_state=rng,\n",
    "                          silent=False)\n",
    "    # print(np.shape(bits),np.shape(parity),np.shape(target))\n",
    "    nParityESN.fit(train_bits, train_parity)\n",
    "    pred_test = nParityESN.predict(test_bits)\n",
    "\n",
    "    #### Rounding\n",
    "    better_pred_test = []           # Maybe don't round and return \"true\" results from pred_test\n",
    "    for x in pred_test:\n",
    "        better_pred_test.append(0 if x < 0.5 else 1)\n",
    "    predictedParity = np.array(better_pred_test).reshape(-1,1)\n",
    "\n",
    "    print(\"Testing error\")\n",
    "    test_error = np.sqrt(np.mean((predictedParity - test_parity) ** 2))\n",
    "    print(test_error)\n",
    "    return test_error"
   ]
  },
  {
   "cell_type": "code",
   "execution_count": 21,
   "metadata": {
    "collapsed": false
   },
   "outputs": [
    {
     "ename": "SyntaxError",
     "evalue": "invalid syntax (<ipython-input-21-b7bd20464c10>, line 17)",
     "output_type": "error",
     "traceback": [
      "\u001b[0;36m  File \u001b[0;32m\"<ipython-input-21-b7bd20464c10>\"\u001b[0;36m, line \u001b[0;32m17\u001b[0m\n\u001b[0;31m    print(\"--- %s hours ---\" % (((time.time() - run_time)/3600))\u001b[0m\n\u001b[0m        ^\u001b[0m\n\u001b[0;31mSyntaxError\u001b[0m\u001b[0;31m:\u001b[0m invalid syntax\n"
     ]
    }
   ],
   "source": [
    "# num_neurons = [500, 600, 700, 800, 900, 1000]\n",
    "num_neurons = 500\n",
    "sp_rad = np.linspace(0.1, 1.0, num=7)\n",
    "l_rate = np.linspace(0.1, 1.0, num=7)\n",
    "\n",
    "run_time = time.time()\n",
    "errors = np.zeros((len(l_rate),len(sp_rad)))\n",
    "\n",
    "for n in num_neurons:\n",
    "    for i,l in enumerate(l_rate):\n",
    "        for j,s in enumerate(sp_rad):\n",
    "            print(\"Neurons:\", n, \"Spectral-radius:\", s, \"Leak-rate:\", l)\n",
    "            errors[i][j] = runSomeConfigs(n,s,l)\n",
    "            print(\"--- %s minutes ---\" % (((time.time() - run_time)/60)))\n",
    "        \n",
    "plt.imshow(errors, interpolation=\"nearest\", origin=\"upper\")\n",
    "plt.xlabel(\"leak-rate\")\n",
    "plt.ylabel(\"spectral-radius\")\n",
    "plt.colorbar()\n",
    "plt.show()\n",
    "        \n",
    "print(\"Total time for Testbench:\")\n",
    "print(\"--- %s seconds ---\" % (time.time() - run_time))\n",
    "print(\"--- %s minutes ---\" % (((time.time() - run_time)/60)))\n",
    "print(\"--- %s hours ---\" % (((time.time() - run_time)/3600)))"
   ]
  },
  {
   "cell_type": "markdown",
   "metadata": {
    "collapsed": false
   },
   "source": [
    "# plt.subplot(111)\n",
    "# plt.plot(errors)\n",
    "# plt.show()\n",
    "from matplotlib import cm\n",
    "from matplotlib.ticker import LinearLocator, FormatStrFormatter\n",
    "import random\n",
    "\n",
    "sp_rad = np.linspace(0.1, 1.0, num=7)\n",
    "l_rate = np.linspace(0.1, 1.0, num=7)\n",
    "errors = np.zeros((len(l_rate),len(sp_rad)))\n",
    "for i,l in enumerate(l_rate):\n",
    "    for j,s in enumerate(sp_rad):\n",
    "        errors[i][j] = random.randint(-5,6)\n",
    "print(sp_rad)\n",
    "print(l_rate)\n",
    "print(errors)\n",
    "l_rate, sp_rad = np.meshgrid(l_rate, sp_rad)\n",
    "\n",
    "fig = plt.figure()\n",
    "ax = fig.gca(projection='3d')\n",
    "\n",
    "surf = ax.plot_surface(l_rate, sp_rad, errors, cmap=cm.coolwarm,\n",
    "                       linewidth=0, antialiased=False)\n",
    "\n",
    "# Customize the z axis.\n",
    "# ax.set_zlim(-0.01, 2.01)\n",
    "ax.zaxis.set_major_locator(LinearLocator(10))\n",
    "ax.zaxis.set_major_formatter(FormatStrFormatter('%.02f'))\n",
    "\n",
    "# Add a color bar which maps values to colors.\n",
    "fig.colorbar(surf, shrink=0.5, aspect=5)\n",
    "\n",
    "plt.show()"
   ]
  },
  {
   "cell_type": "markdown",
   "metadata": {
    "collapsed": false
   },
   "source": [
    "print(\"### Input-->Parity ###\")\n",
    "run_time = time.time()\n",
    "# get good configs for a slow ESN\n",
    "nParityESN = ESN(n_inputs=1,\n",
    "                          n_outputs=1,\n",
    "                          n_reservoir=500,  # from 200 onwards test error decreases significantly\n",
    "                          spectral_radius=0.95,  # from 0.9 the test error is 0.0\n",
    "                          leak_rate= 0.5,   # adjust leak_rate\n",
    "                          sparsity=0.95,\n",
    "                          noise=0.001,\n",
    "                          input_shift=0,\n",
    "                          input_scaling=3,  # 3 seems to be fine. Maybe use lower\n",
    "                          teacher_scaling=1.12,\n",
    "                          teacher_shift=-0.7,\n",
    "                          out_activation=np.tanh,\n",
    "                          inverse_out_activation=np.arctanh,\n",
    "                          random_state=rng,\n",
    "                          silent=False)\n",
    "# print(np.shape(bits),np.shape(parity),np.shape(target))\n",
    "nParityESN.fit(train_bits, train_parity)\n",
    "pred_test = nParityESN.predict(test_bits)\n",
    "\n",
    "#### Rounding\n",
    "better_pred_test = []           # Maybe don't round and return \"true\" results from pred_test\n",
    "for x in pred_test:\n",
    "    better_pred_test.append(0 if x < 0.5 else 1)\n",
    "predictedParity = np.array(better_pred_test).reshape(-1,1)\n",
    "\n",
    "print(\"Testing error\")\n",
    "print(np.sqrt(np.mean((predictedParity - test_parity) ** 2)))\n",
    "\n",
    "print(\"--- %s seconds ---\" % (time.time() - run_time))\n",
    "print(\"--- %s minutes ---\" % (((time.time() - run_time)/60)))"
   ]
  },
  {
   "cell_type": "code",
   "execution_count": null,
   "metadata": {
    "collapsed": true
   },
   "outputs": [],
   "source": []
  }
 ],
 "metadata": {
  "anaconda-cloud": {},
  "kernelspec": {
   "display_name": "Python [default]",
   "language": "python",
   "name": "python3"
  },
  "language_info": {
   "codemirror_mode": {
    "name": "ipython",
    "version": 3
   },
   "file_extension": ".py",
   "mimetype": "text/x-python",
   "name": "python",
   "nbconvert_exporter": "python",
   "pygments_lexer": "ipython3",
   "version": "3.5.2"
  }
 },
 "nbformat": 4,
 "nbformat_minor": 0
}
